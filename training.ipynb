{
 "cells": [
  {
   "cell_type": "markdown",
   "metadata": {},
   "source": [
    "# Data Analyst yt video exercises"
   ]
  },
  {
   "cell_type": "code",
   "execution_count": 1,
   "metadata": {},
   "outputs": [
    {
     "data": {
      "text/plain": [
       "['P', 'Y', 'T', 'H', 'O', 'N']"
      ]
     },
     "execution_count": 1,
     "metadata": {},
     "output_type": "execute_result"
    }
   ],
   "source": [
    "numbers1 = [x for x in 'PYTHON']\n",
    "numbers1"
   ]
  },
  {
   "cell_type": "code",
   "execution_count": 2,
   "metadata": {},
   "outputs": [
    {
     "name": "stdout",
     "output_type": "stream",
     "text": [
      "102\n",
      "['Data Analyst', 'Marketing Data Analyst', 'HR Data Analyst', 'Supply Chain Data Analyst', 'Sports Data Analyst', 'Insurance Data Analyst', 'Junior Data Analyst', 'Real Estate Data Analyst']\n"
     ]
    },
    {
     "data": {
      "text/plain": [
       "8"
      ]
     },
     "execution_count": 2,
     "metadata": {},
     "output_type": "execute_result"
    }
   ],
   "source": [
    "job_titles = [\n",
    "    \"Data Scientist\", \"Machine Learning Engineer\", \"Data Analyst\", \"AI Engineer\", \"Business Intelligence Analyst\",\n",
    "    \"Data Engineer\", \"Deep Learning Engineer\", \"Big Data Engineer\", \"Quantitative Analyst\", \"Research Scientist\",\n",
    "    \"Statistician\", \"Data Architect\", \"Computer Vision Engineer\", \"NLP Engineer\", \"Decision Scientist\",\n",
    "    \"BI Developer\", \"Analytics Engineer\", \"Data Science Consultant\", \"Predictive Modeler\", \"AI Research Scientist\",\n",
    "    \"Data Science Manager\", \"Data Visualization Specialist\", \"Data Science Product Manager\", \"ML Ops Engineer\", \n",
    "    \"Applied Scientist\", \"Research Engineer\", \"Principal Data Scientist\", \"Lead Data Scientist\", \n",
    "    \"Marketing Data Analyst\", \"Operations Research Analyst\", \"Risk Data Scientist\", \"Fraud Detection Analyst\", \n",
    "    \"Healthcare Data Scientist\", \"Bioinformatics Data Scientist\", \"Financial Data Scientist\", \"Customer Insights Analyst\",\n",
    "    \"Data Strategy Consultant\", \"Computer Science Researcher\", \"AI Ethics Researcher\", \"Geospatial Data Scientist\", \n",
    "    \"Robotics Data Scientist\", \"Econometrician\", \"Retail Data Scientist\", \"Climate Data Scientist\", \"HR Data Analyst\", \n",
    "    \"Data Governance Specialist\", \"Text Mining Engineer\", \"Sentiment Analysis Expert\", \"Epidemiology Data Scientist\", \n",
    "    \"Supply Chain Data Analyst\", \"Data Wrangler\", \"Data Storyteller\", \"Sports Data Analyst\", \"Educational Data Scientist\",\n",
    "    \"Cybersecurity Data Scientist\", \"Cloud Data Engineer\", \"Data Science Trainer\", \"Data Ethics Consultant\",\n",
    "    \"Causal Inference Scientist\", \"Genomics Data Scientist\", \"Recommender Systems Engineer\", \"Conversational AI Engineer\", \n",
    "    \"Knowledge Graph Engineer\", \"Data-Driven Decision Maker\", \"Survey Data Scientist\", \"Data Science Evangelist\",\n",
    "    \"Software Engineer - Data Science\", \"AI/ML Product Manager\", \"A/B Testing Analyst\", \"Personalization Data Scientist\",\n",
    "    \"Insurance Data Analyst\", \"Customer Experience Data Scientist\", \"Data Science Director\", \"Senior Data Engineer\",\n",
    "    \"Senior Machine Learning Engineer\", \"Junior Data Scientist\", \"Junior Data Analyst\", \"AI Software Engineer\",\n",
    "    \"ML Research Scientist\", \"Speech Recognition Engineer\", \"Autonomous Systems Scientist\", \"Data Science Fellow\",\n",
    "    \"Experimental Data Scientist\", \"Bayesian Statistician\", \"AI Consultant\", \"Big Data Analytics Consultant\",\n",
    "    \"Optimization Scientist\", \"Cloud AI Engineer\", \"Quantitative Researcher\", \"AI Fairness Expert\",\n",
    "    \"Streaming Data Engineer\", \"Cryptocurrency Data Scientist\", \"AdTech Data Scientist\", \"Pharmaceutical Data Scientist\",\n",
    "    \"Media Data Scientist\", \"Real Estate Data Analyst\", \"AI Policy Analyst\", \"Legal Data Scientist\",\n",
    "    \"AI Infrastructure Engineer\", \"Neuroscience Data Scientist\", \"Cognitive AI Engineer\", \"Data Science Recruiter\"\n",
    "]\n",
    "print(len(job_titles))\n",
    "data_analyst_titles = [job for job in job_titles if \"Data Analyst\" in job]\n",
    "print(data_analyst_titles)\n",
    "len(data_analyst_titles)\n"
   ]
  },
  {
   "cell_type": "code",
   "execution_count": null,
   "metadata": {},
   "outputs": [],
   "source": [
    "# Define data science job roles and required skills\n",
    "job_roles = [\n",
    "    {'role': 'Data Analyst', 'skills': ['Python', 'SQL', 'Excel']},\n",
    "    {'role': 'Data Scientist', 'skills': ['Python', 'R', 'Machine Learning', 'Deep Learning']},\n",
    "    {'role': 'Machine Learning Engineer', 'skills': ['Python', 'TensorFlow', 'PyTorch', 'Scikit-Learn']},\n",
    "    {'role': 'Data Engineer', 'skills': ['Python', 'Apache Spark', 'Hadoop', 'SQL']},\n",
    "    {'role': 'Business Intelligence Analyst', 'skills': ['Python', 'SQL', 'Tableau', 'Power BI', 'Excel']},\n",
    "    {'role': 'Quantitative Analyst', 'skills': ['R', 'Python', 'MATLAB', 'Statistics']},\n",
    "    {'role': 'Operations Analyst', 'skills': ['Python', 'SQL', 'Data Visualization', 'Process Improvement']},\n",
    "    {'role': 'Database Administrator', 'skills': ['SQL', 'Oracle', 'MySQL', 'Database Management']},\n",
    "    {'role': 'AI Engineer', 'skills': ['Python', 'TensorFlow', 'PyTorch', 'Computer Vision']},\n",
    "    {'role': 'Statistician', 'skills': ['R', 'SAS', 'Python', 'Statistical Modeling']}\n",
    "]\n",
    "# My skills\n",
    "my_skills = ['Python', 'SQL', 'Excel']"
   ]
  },
  {
   "cell_type": "code",
   "execution_count": null,
   "metadata": {},
   "outputs": [
    {
     "data": {
      "text/plain": [
       "['Data Analyst', 'Business Intelligence Analyst']"
      ]
     },
     "execution_count": 4,
     "metadata": {},
     "output_type": "execute_result"
    }
   ],
   "source": [
    "qualified_jobs = []\n",
    "\n",
    "for job in job_roles:\n",
    "    qualified = True\n",
    "\n",
    "    for skill in my_skills:\n",
    "        if skill not in job['skills']:\n",
    "            qualified = False\n",
    "            break\n",
    "    if qualified:\n",
    "        qualified_jobs.append(job['role'])\n",
    "\n",
    "qualified_jobs"
   ]
  },
  {
   "cell_type": "code",
   "execution_count": 5,
   "metadata": {},
   "outputs": [
    {
     "data": {
      "text/plain": [
       "3"
      ]
     },
     "execution_count": 5,
     "metadata": {},
     "output_type": "execute_result"
    }
   ],
   "source": [
    "skill_list = ['Python', 'SQL', 'Excel']\n",
    "\n",
    "len(skill_list)"
   ]
  },
  {
   "cell_type": "markdown",
   "metadata": {},
   "source": [
    "## Functions"
   ]
  },
  {
   "cell_type": "code",
   "execution_count": 6,
   "metadata": {},
   "outputs": [
    {
     "data": {
      "text/plain": [
       "3"
      ]
     },
     "execution_count": 6,
     "metadata": {},
     "output_type": "execute_result"
    }
   ],
   "source": [
    "count = 0\n",
    "for skill in skill_list:\n",
    "    count += 1\n",
    "count"
   ]
  },
  {
   "cell_type": "code",
   "execution_count": 7,
   "metadata": {},
   "outputs": [
    {
     "data": {
      "text/plain": [
       "85000"
      ]
     },
     "execution_count": 7,
     "metadata": {},
     "output_type": "execute_result"
    }
   ],
   "source": [
    "data_salaries = [95000,100000, 85000,97000,140000]\n",
    "min(data_salaries)"
   ]
  },
  {
   "cell_type": "code",
   "execution_count": 8,
   "metadata": {},
   "outputs": [
    {
     "data": {
      "text/plain": [
       "517000"
      ]
     },
     "execution_count": 8,
     "metadata": {},
     "output_type": "execute_result"
    }
   ],
   "source": [
    "sum(data_salaries)"
   ]
  },
  {
   "cell_type": "code",
   "execution_count": 9,
   "metadata": {},
   "outputs": [
    {
     "data": {
      "text/plain": [
       "[85000, 95000, 97000, 100000, 140000]"
      ]
     },
     "execution_count": 9,
     "metadata": {},
     "output_type": "execute_result"
    }
   ],
   "source": [
    "sorted(data_salaries)"
   ]
  },
  {
   "cell_type": "code",
   "execution_count": 10,
   "metadata": {},
   "outputs": [
    {
     "data": {
      "text/plain": [
       "4000"
      ]
     },
     "execution_count": 10,
     "metadata": {},
     "output_type": "execute_result"
    }
   ],
   "source": [
    "def calc_salary(base_salary,bonus_rate=0.1):\n",
    "    total_salary = base_salary*(1+bonus_rate)\n",
    "    return total_salary\n",
    "calc_salary(400,9)"
   ]
  },
  {
   "cell_type": "code",
   "execution_count": 11,
   "metadata": {},
   "outputs": [
    {
     "data": {
      "text/plain": [
       "'PythonPython'"
      ]
     },
     "execution_count": 11,
     "metadata": {},
     "output_type": "execute_result"
    }
   ],
   "source": [
    "mul2 = lambda x: x*2\n",
    "mul2('Python')"
   ]
  },
  {
   "cell_type": "code",
   "execution_count": 12,
   "metadata": {},
   "outputs": [
    {
     "data": {
      "text/plain": [
       "[104500.00000000001,\n",
       " 110000.00000000001,\n",
       " 93500.00000000001,\n",
       " 106700.00000000001,\n",
       " 154000.0,\n",
       " 220000.00000000003]"
      ]
     },
     "execution_count": 12,
     "metadata": {},
     "output_type": "execute_result"
    }
   ],
   "source": [
    "salary_list = [95000,100000, 85000,97000,140000, 200000]\n",
    "\n",
    "#def calc_salary(base_salary,bonus_rate=.1):\n",
    "#    return base_salary*(1+bonus_rate)\n",
    "\n",
    "total_salary_list = [ (lambda x: x*1.1)(salary) for salary in salary_list]\n",
    "total_salary_list"
   ]
  },
  {
   "cell_type": "code",
   "execution_count": 13,
   "metadata": {},
   "outputs": [],
   "source": [
    "jobs_data = [\n",
    "    {'role': 'Data Analyst', 'skills': ['Python', 'SQL', 'Excel'], 'remote': True},\n",
    "    {'role': 'Data Scientist', 'skills': ['Python', 'R', 'Machine Learning', 'Deep Learning'], 'remote': True},\n",
    "    {'role': 'Machine Learning Engineer', 'skills': ['Python', 'TensorFlow', 'PyTorch', 'Scikit-Learn'], 'remote': True},\n",
    "    {'role': 'Data Engineer', 'skills': ['Python', 'Apache Spark', 'Hadoop', 'SQL'], 'remote': False},\n",
    "    {'role': 'Business Intelligence Analyst', 'skills': ['Python', 'SQL', 'Tableau', 'Power BI', 'Excel'], 'remote': True},\n",
    "    {'role': 'Quantitative Analyst', 'skills': ['R', 'Python', 'MATLAB', 'Statistics'], 'remote': False},\n",
    "    {'role': 'Operations Analyst', 'skills': ['Python', 'SQL', 'Data Visualization', 'Process Improvement'], 'remote': False},\n",
    "    {'role': 'Database Administrator', 'skills': ['SQL', 'Oracle', 'MySQL', 'Database Management'], 'remote': True},\n",
    "    {'role': 'AI Engineer', 'skills': ['Python', 'TensorFlow', 'PyTorch', 'Computer Vision'], 'remote': False},\n",
    "    {'role': 'Statistician', 'skills': ['R', 'SAS', 'Python', 'Statistical Modeling'], 'remote': True}\n",
    "]"
   ]
  },
  {
   "cell_type": "code",
   "execution_count": 14,
   "metadata": {},
   "outputs": [
    {
     "data": {
      "text/plain": [
       "[{'role': 'Data Analyst',\n",
       "  'skills': ['Python', 'SQL', 'Excel'],\n",
       "  'remote': True},\n",
       " {'role': 'Data Scientist',\n",
       "  'skills': ['Python', 'R', 'Machine Learning', 'Deep Learning'],\n",
       "  'remote': True},\n",
       " {'role': 'Machine Learning Engineer',\n",
       "  'skills': ['Python', 'TensorFlow', 'PyTorch', 'Scikit-Learn'],\n",
       "  'remote': True},\n",
       " {'role': 'Business Intelligence Analyst',\n",
       "  'skills': ['Python', 'SQL', 'Tableau', 'Power BI', 'Excel'],\n",
       "  'remote': True},\n",
       " {'role': 'Statistician',\n",
       "  'skills': ['R', 'SAS', 'Python', 'Statistical Modeling'],\n",
       "  'remote': True}]"
      ]
     },
     "execution_count": 14,
     "metadata": {},
     "output_type": "execute_result"
    }
   ],
   "source": [
    "list(filter(lambda job: job['remote'] and \"Python\" in job['skills'],jobs_data))"
   ]
  },
  {
   "cell_type": "code",
   "execution_count": 15,
   "metadata": {},
   "outputs": [],
   "source": [
    "from job_analyzer import *"
   ]
  },
  {
   "cell_type": "code",
   "execution_count": 16,
   "metadata": {},
   "outputs": [
    {
     "name": "stdout",
     "output_type": "stream",
     "text": [
      "110000.00000000001\n"
     ]
    },
    {
     "data": {
      "text/plain": [
       "10000.0"
      ]
     },
     "execution_count": 16,
     "metadata": {},
     "output_type": "execute_result"
    }
   ],
   "source": [
    "print(calculate_salary(100_000))\n",
    "calculate_bonus(100_000)"
   ]
  },
  {
   "cell_type": "code",
   "execution_count": 17,
   "metadata": {},
   "outputs": [
    {
     "name": "stdout",
     "output_type": "stream",
     "text": [
      "Help on function calculate_salary in module job_analyzer:\n",
      "\n",
      "calculate_salary(base_salary, bonus_rate=0.1)\n",
      "    Calc the total salary based on base and bonus --> base*(1+bonus)\n",
      "\n"
     ]
    }
   ],
   "source": [
    "help(calculate_salary)"
   ]
  },
  {
   "cell_type": "code",
   "execution_count": 18,
   "metadata": {},
   "outputs": [],
   "source": [
    "salary_list = [95000,100000, 85000,97000,140000, 200000]"
   ]
  },
  {
   "cell_type": "code",
   "execution_count": 19,
   "metadata": {},
   "outputs": [
    {
     "name": "stdout",
     "output_type": "stream",
     "text": [
      "95000\n",
      "98500.0\n"
     ]
    },
    {
     "data": {
      "text/plain": [
       "119500"
      ]
     },
     "execution_count": 19,
     "metadata": {},
     "output_type": "execute_result"
    }
   ],
   "source": [
    "from statistics import mean,mode,median\n",
    "\n",
    "print(mode(salary_list))\n",
    "print(median(salary_list))\n",
    "mean(salary_list)\n"
   ]
  },
  {
   "cell_type": "markdown",
   "metadata": {},
   "source": [
    "## Exercise: Cleaning Data"
   ]
  },
  {
   "cell_type": "code",
   "execution_count": 20,
   "metadata": {},
   "outputs": [],
   "source": [
    "data_science_jobs = [\n",
    "    {'job_title': 'Data Scientist', 'job_skills': \"['Python', 'SQL', 'Machine Learning']\", 'job_date': '2023-05-12'},\n",
    "    {'job_title': 'Machine Learning Engineer', 'job_skills': \"['Python', 'TensorFlow', 'Deep Learning']\", 'job_date': '2023-05-15'},\n",
    "    {'job_title': 'Data Analyst', 'job_skills': \"['SQL', 'R', 'Tableau']\", 'job_date': '2023-05-10'},\n",
    "    {'job_title': 'Business Intelligence Developer', 'job_skills': \"['SQL', 'PowerBI', 'Data Warehousing']\", 'job_date': '2023-05-08'},\n",
    "    {'job_title': 'Data Engineer', 'job_skills': \"['Python', 'Spark', 'Hadoop']\", 'job_date': '2023-05-18'},\n",
    "    {'job_title': 'AI Specialist', 'job_skills': \"['Python', 'PyTorch', 'AI Ethics']\", 'job_date': '2023-05-20'}\n",
    "]"
   ]
  },
  {
   "cell_type": "code",
   "execution_count": 21,
   "metadata": {},
   "outputs": [],
   "source": [
    "from datetime import datetime\n",
    "import ast"
   ]
  },
  {
   "cell_type": "code",
   "execution_count": 22,
   "metadata": {},
   "outputs": [],
   "source": [
    "for job in data_science_jobs:\n",
    "    job['job_date'] = datetime.strptime(job['job_date'],'%Y-%m-%d')\n",
    "    job['job_skills'] = ast.literal_eval(job['job_skills'])\n"
   ]
  },
  {
   "cell_type": "code",
   "execution_count": 23,
   "metadata": {},
   "outputs": [
    {
     "data": {
      "text/plain": [
       "[{'job_title': 'Data Scientist',\n",
       "  'job_skills': ['Python', 'SQL', 'Machine Learning'],\n",
       "  'job_date': datetime.datetime(2023, 5, 12, 0, 0)},\n",
       " {'job_title': 'Machine Learning Engineer',\n",
       "  'job_skills': ['Python', 'TensorFlow', 'Deep Learning'],\n",
       "  'job_date': datetime.datetime(2023, 5, 15, 0, 0)},\n",
       " {'job_title': 'Data Analyst',\n",
       "  'job_skills': ['SQL', 'R', 'Tableau'],\n",
       "  'job_date': datetime.datetime(2023, 5, 10, 0, 0)},\n",
       " {'job_title': 'Business Intelligence Developer',\n",
       "  'job_skills': ['SQL', 'PowerBI', 'Data Warehousing'],\n",
       "  'job_date': datetime.datetime(2023, 5, 8, 0, 0)},\n",
       " {'job_title': 'Data Engineer',\n",
       "  'job_skills': ['Python', 'Spark', 'Hadoop'],\n",
       "  'job_date': datetime.datetime(2023, 5, 18, 0, 0)},\n",
       " {'job_title': 'AI Specialist',\n",
       "  'job_skills': ['Python', 'PyTorch', 'AI Ethics'],\n",
       "  'job_date': datetime.datetime(2023, 5, 20, 0, 0)}]"
      ]
     },
     "execution_count": 23,
     "metadata": {},
     "output_type": "execute_result"
    }
   ],
   "source": [
    "data_science_jobs"
   ]
  },
  {
   "cell_type": "code",
   "execution_count": 24,
   "metadata": {},
   "outputs": [
    {
     "data": {
      "text/plain": [
       "list"
      ]
     },
     "execution_count": 24,
     "metadata": {},
     "output_type": "execute_result"
    }
   ],
   "source": [
    "type(data_science_jobs[0]['job_skills'])"
   ]
  },
  {
   "cell_type": "code",
   "execution_count": 1,
   "metadata": {},
   "outputs": [],
   "source": [
    "class LukesList:\n",
    "    def __init__(self):\n",
    "        \"\"\"Initialize an empty list.\"\"\"\n",
    "        self._items = []\n",
    "\n",
    "    def add(self, item):\n",
    "        \"\"\"Add an item to the end of the list.\"\"\"\n",
    "        self._items.append(item)\n",
    "\n",
    "    def __getitem__(self, index):\n",
    "        \"\"\"Retrieve an item by index.\"\"\"\n",
    "        return self._items[index]\n",
    "\n",
    "    def __setitem__(self, index, value):\n",
    "        \"\"\"Set an item at a specific index.\"\"\"\n",
    "        self._items[index] = value\n",
    "\n",
    "    def __repr__(self):\n",
    "        \"\"\"Return a string representation of the list.\"\"\"\n",
    "        return str(self._items)\n",
    "\n",
    "    def __len__(self):\n",
    "        \"\"\"Return the length of the list.\"\"\"\n",
    "        return len(self._items)"
   ]
  },
  {
   "cell_type": "code",
   "execution_count": 2,
   "metadata": {},
   "outputs": [
    {
     "data": {
      "text/plain": [
       "[]"
      ]
     },
     "execution_count": 2,
     "metadata": {},
     "output_type": "execute_result"
    }
   ],
   "source": [
    "my_list = LukesList()\n",
    "my_list"
   ]
  },
  {
   "cell_type": "code",
   "execution_count": 3,
   "metadata": {},
   "outputs": [],
   "source": [
    "my_list.add('Data Nerd')"
   ]
  },
  {
   "cell_type": "code",
   "execution_count": 4,
   "metadata": {},
   "outputs": [
    {
     "data": {
      "text/plain": [
       "['Data Nerd']"
      ]
     },
     "execution_count": 4,
     "metadata": {},
     "output_type": "execute_result"
    }
   ],
   "source": [
    "my_list"
   ]
  },
  {
   "cell_type": "code",
   "execution_count": 5,
   "metadata": {},
   "outputs": [],
   "source": [
    "my_list.add('Finance Nerd')"
   ]
  },
  {
   "cell_type": "code",
   "execution_count": 6,
   "metadata": {},
   "outputs": [
    {
     "data": {
      "text/plain": [
       "['Data Nerd', 'Finance Nerd']"
      ]
     },
     "execution_count": 6,
     "metadata": {},
     "output_type": "execute_result"
    }
   ],
   "source": [
    "my_list"
   ]
  },
  {
   "cell_type": "code",
   "execution_count": 7,
   "metadata": {},
   "outputs": [
    {
     "data": {
      "text/plain": [
       "2"
      ]
     },
     "execution_count": 7,
     "metadata": {},
     "output_type": "execute_result"
    }
   ],
   "source": [
    "len(my_list)"
   ]
  },
  {
   "cell_type": "code",
   "execution_count": null,
   "metadata": {},
   "outputs": [],
   "source": [
    "class BaseSalary:\n",
    "    def __init__(self, base_salary, bonus_rate=0.1, currency='€'):\n",
    "        self.base_salary = base_salary\n",
    "        self.bonus_rate = bonus_rate\n",
    "        self.currency = currency\n",
    "        self.total_salary = base_salary*(1+bonus_rate)\n",
    "        self.bonus = base_salary*bonus_rate\n",
    "    def __repr__(self):\n",
    "        return f\"{self.base_salary:,.0f}{self.currency}\"\n",
    "    def show_salary(self):\n",
    "      return f\"{self.total_salary:,.0f}{self.currency}\"\n",
    "    def show_bonus(self):\n",
    "      return f\"{self.bonus:,.0f}{self.currency}\"\n"
   ]
  },
  {
   "cell_type": "code",
   "execution_count": 44,
   "metadata": {},
   "outputs": [
    {
     "data": {
      "text/plain": [
       "'10,000€'"
      ]
     },
     "execution_count": 44,
     "metadata": {},
     "output_type": "execute_result"
    }
   ],
   "source": [
    "salary = BaseSalary(100_000)\n",
    "salary.show_bonus()"
   ]
  },
  {
   "cell_type": "code",
   "execution_count": 13,
   "metadata": {},
   "outputs": [],
   "source": [
    "import random\n",
    "\n",
    "salary_list = [random.randint(50_000,100_000) for _ in range(1_000_000)]"
   ]
  },
  {
   "cell_type": "code",
   "execution_count": 14,
   "metadata": {},
   "outputs": [],
   "source": [
    "import statistics"
   ]
  },
  {
   "cell_type": "code",
   "execution_count": 20,
   "metadata": {},
   "outputs": [
    {
     "name": "stdout",
     "output_type": "stream",
     "text": [
      "200 ms ± 7.91 ms per loop (mean ± std. dev. of 7 runs, 1 loop each)\n"
     ]
    }
   ],
   "source": [
    "%%timeit\n",
    "statistics.mean(salary_list)"
   ]
  },
  {
   "cell_type": "code",
   "execution_count": 17,
   "metadata": {},
   "outputs": [],
   "source": [
    "import numpy as np"
   ]
  },
  {
   "cell_type": "code",
   "execution_count": 33,
   "metadata": {},
   "outputs": [],
   "source": [
    "applications_list = [10, 15, 7, 20, 25, 30, 5]\n",
    "my_array = np.array(applications_list)"
   ]
  },
  {
   "cell_type": "code",
   "execution_count": 34,
   "metadata": {},
   "outputs": [
    {
     "data": {
      "text/plain": [
       "np.float64(16.0)"
      ]
     },
     "execution_count": 34,
     "metadata": {},
     "output_type": "execute_result"
    }
   ],
   "source": [
    "np.nanmean(my_array)"
   ]
  },
  {
   "cell_type": "code",
   "execution_count": 39,
   "metadata": {},
   "outputs": [
    {
     "data": {
      "text/plain": [
       "np.int64(5)"
      ]
     },
     "execution_count": 39,
     "metadata": {},
     "output_type": "execute_result"
    }
   ],
   "source": [
    "postings_list = [10, 15, 7, 20, 25, 30, 5]\n",
    "post_array = np.array(postings_list)\n",
    "\n",
    "np.min(post_array)\n"
   ]
  },
  {
   "cell_type": "code",
   "execution_count": 50,
   "metadata": {},
   "outputs": [],
   "source": [
    "import pandas as pd"
   ]
  },
  {
   "cell_type": "code",
   "execution_count": 51,
   "metadata": {},
   "outputs": [],
   "source": [
    "from datasets import load_dataset"
   ]
  },
  {
   "cell_type": "code",
   "execution_count": 113,
   "metadata": {},
   "outputs": [],
   "source": [
    "dataset = load_dataset(\"lukebarousse/data_jobs\")"
   ]
  },
  {
   "cell_type": "code",
   "execution_count": 114,
   "metadata": {},
   "outputs": [],
   "source": [
    "df = dataset['train'].to_pandas()"
   ]
  },
  {
   "cell_type": "code",
   "execution_count": 54,
   "metadata": {},
   "outputs": [
    {
     "name": "stdout",
     "output_type": "stream",
     "text": [
      "<class 'pandas.core.frame.DataFrame'>\n",
      "RangeIndex: 785741 entries, 0 to 785740\n",
      "Data columns (total 17 columns):\n",
      " #   Column                 Non-Null Count   Dtype  \n",
      "---  ------                 --------------   -----  \n",
      " 0   job_title_short        785741 non-null  object \n",
      " 1   job_title              785740 non-null  object \n",
      " 2   job_location           784696 non-null  object \n",
      " 3   job_via                785733 non-null  object \n",
      " 4   job_schedule_type      773074 non-null  object \n",
      " 5   job_work_from_home     785741 non-null  bool   \n",
      " 6   search_location        785741 non-null  object \n",
      " 7   job_posted_date        785741 non-null  object \n",
      " 8   job_no_degree_mention  785741 non-null  bool   \n",
      " 9   job_health_insurance   785741 non-null  bool   \n",
      " 10  job_country            785692 non-null  object \n",
      " 11  salary_rate            33067 non-null   object \n",
      " 12  salary_year_avg        22003 non-null   float64\n",
      " 13  salary_hour_avg        10662 non-null   float64\n",
      " 14  company_name           785723 non-null  object \n",
      " 15  job_skills             668704 non-null  object \n",
      " 16  job_type_skills        668704 non-null  object \n",
      "dtypes: bool(3), float64(2), object(12)\n",
      "memory usage: 86.2+ MB\n"
     ]
    }
   ],
   "source": [
    "df.info()"
   ]
  },
  {
   "cell_type": "code",
   "execution_count": 34,
   "metadata": {},
   "outputs": [
    {
     "data": {
      "text/plain": [
       "job_title_short                                              Data Engineer\n",
       "job_title                LEAD ENGINEER - PRINCIPAL ANALYST - PRINCIPAL ...\n",
       "job_location                                               San Antonio, TX\n",
       "job_via                                                  via Diversity.com\n",
       "job_schedule_type                                                Full-time\n",
       "job_work_from_home                                                   False\n",
       "search_location                                       Texas, United States\n",
       "job_posted_date                                        2023-07-04 13:01:41\n",
       "job_no_degree_mention                                                 True\n",
       "job_health_insurance                                                 False\n",
       "job_country                                                  United States\n",
       "salary_rate                                                           None\n",
       "salary_year_avg                                                        NaN\n",
       "salary_hour_avg                                                        NaN\n",
       "company_name                                  Southwest Research Institute\n",
       "job_skills               ['python', 'c++', 'java', 'matlab', 'aws', 'te...\n",
       "job_type_skills          {'cloud': ['aws'], 'libraries': ['tensorflow',...\n",
       "Name: 3, dtype: object"
      ]
     },
     "execution_count": 34,
     "metadata": {},
     "output_type": "execute_result"
    }
   ],
   "source": [
    "df.iloc[3]"
   ]
  },
  {
   "cell_type": "code",
   "execution_count": 23,
   "metadata": {},
   "outputs": [
    {
     "data": {
      "text/html": [
       "<div>\n",
       "<style scoped>\n",
       "    .dataframe tbody tr th:only-of-type {\n",
       "        vertical-align: middle;\n",
       "    }\n",
       "\n",
       "    .dataframe tbody tr th {\n",
       "        vertical-align: top;\n",
       "    }\n",
       "\n",
       "    .dataframe thead th {\n",
       "        text-align: right;\n",
       "    }\n",
       "</style>\n",
       "<table border=\"1\" class=\"dataframe\">\n",
       "  <thead>\n",
       "    <tr style=\"text-align: right;\">\n",
       "      <th></th>\n",
       "      <th>salary_year_avg</th>\n",
       "      <th>salary_hour_avg</th>\n",
       "    </tr>\n",
       "  </thead>\n",
       "  <tbody>\n",
       "    <tr>\n",
       "      <th>count</th>\n",
       "      <td>22003.000000</td>\n",
       "      <td>10662.000000</td>\n",
       "    </tr>\n",
       "    <tr>\n",
       "      <th>mean</th>\n",
       "      <td>123286.274072</td>\n",
       "      <td>47.016598</td>\n",
       "    </tr>\n",
       "    <tr>\n",
       "      <th>std</th>\n",
       "      <td>48312.449482</td>\n",
       "      <td>21.890738</td>\n",
       "    </tr>\n",
       "    <tr>\n",
       "      <th>min</th>\n",
       "      <td>15000.000000</td>\n",
       "      <td>8.000000</td>\n",
       "    </tr>\n",
       "    <tr>\n",
       "      <th>25%</th>\n",
       "      <td>90000.000000</td>\n",
       "      <td>27.500000</td>\n",
       "    </tr>\n",
       "    <tr>\n",
       "      <th>50%</th>\n",
       "      <td>115000.000000</td>\n",
       "      <td>45.980000</td>\n",
       "    </tr>\n",
       "    <tr>\n",
       "      <th>75%</th>\n",
       "      <td>150000.000000</td>\n",
       "      <td>61.159996</td>\n",
       "    </tr>\n",
       "    <tr>\n",
       "      <th>max</th>\n",
       "      <td>960000.000000</td>\n",
       "      <td>391.000000</td>\n",
       "    </tr>\n",
       "  </tbody>\n",
       "</table>\n",
       "</div>"
      ],
      "text/plain": [
       "       salary_year_avg  salary_hour_avg\n",
       "count     22003.000000     10662.000000\n",
       "mean     123286.274072        47.016598\n",
       "std       48312.449482        21.890738\n",
       "min       15000.000000         8.000000\n",
       "25%       90000.000000        27.500000\n",
       "50%      115000.000000        45.980000\n",
       "75%      150000.000000        61.159996\n",
       "max      960000.000000       391.000000"
      ]
     },
     "execution_count": 23,
     "metadata": {},
     "output_type": "execute_result"
    }
   ],
   "source": [
    "df.describe()"
   ]
  },
  {
   "cell_type": "code",
   "execution_count": 36,
   "metadata": {},
   "outputs": [
    {
     "data": {
      "text/plain": [
       "array(['Full-time', 'Contractor and Temp work',\n",
       "       'Full-time and Internship', 'Temp work', 'Contractor',\n",
       "       'Full-time and Part-time', 'Full-time and Temp work',\n",
       "       'Full-time and Contractor', 'Part-time', 'Internship', None,\n",
       "       'Part-time and Contractor', 'Temp work and Internship',\n",
       "       'Full-time, Part-time, and Contractor',\n",
       "       'Full-time, Part-time, and Internship',\n",
       "       'Full-time, Contractor, and Temp work',\n",
       "       'Full-time, Part-time, and Temp work',\n",
       "       'Full-time, Temp work, and Internship',\n",
       "       'Full-time, Contractor, and Internship',\n",
       "       'Part-time and Internship', 'Contractor and Internship',\n",
       "       'Part-time and Full-time', 'Part-time and Temp work',\n",
       "       'Full-time and Volunteer', 'Contractor, Temp work, and Internship',\n",
       "       'Full-time and Per diem', 'Per diem', 'Volunteer',\n",
       "       'Part-time, Contractor, and Temp work',\n",
       "       'Full-time, Temp work, and Per diem',\n",
       "       'Part-time, Temp work, and Internship', 'Contractor and Part-time',\n",
       "       'Part-time and Per diem', 'Contractor and Per diem',\n",
       "       'Internship and Full-time', 'Internship and Per diem',\n",
       "       'Full-time, Part-time, and Volunteer', 'Temp work and Full-time',\n",
       "       'Part-time, Internship, and Volunteer', 'Part-time and Volunteer',\n",
       "       'Part-time, Contractor, and Internship',\n",
       "       'Internship and Volunteer', 'Contractor and Full-time',\n",
       "       'Full-time, Part-time, and Per diem',\n",
       "       'Full-time, Contractor, and Volunteer',\n",
       "       'Temp work, Full-time, and Part-time', 'Pekerjaan tetap',\n",
       "       'Kontraktor'], dtype=object)"
      ]
     },
     "execution_count": 36,
     "metadata": {},
     "output_type": "execute_result"
    }
   ],
   "source": [
    "df.job_schedule_type.unique()"
   ]
  },
  {
   "cell_type": "code",
   "execution_count": 55,
   "metadata": {},
   "outputs": [
    {
     "data": {
      "text/html": [
       "<div>\n",
       "<style scoped>\n",
       "    .dataframe tbody tr th:only-of-type {\n",
       "        vertical-align: middle;\n",
       "    }\n",
       "\n",
       "    .dataframe tbody tr th {\n",
       "        vertical-align: top;\n",
       "    }\n",
       "\n",
       "    .dataframe thead th {\n",
       "        text-align: right;\n",
       "    }\n",
       "</style>\n",
       "<table border=\"1\" class=\"dataframe\">\n",
       "  <thead>\n",
       "    <tr style=\"text-align: right;\">\n",
       "      <th></th>\n",
       "      <th>job_title_short</th>\n",
       "      <th>job_title</th>\n",
       "      <th>job_location</th>\n",
       "      <th>job_via</th>\n",
       "      <th>job_schedule_type</th>\n",
       "      <th>job_work_from_home</th>\n",
       "      <th>search_location</th>\n",
       "      <th>job_posted_date</th>\n",
       "      <th>job_no_degree_mention</th>\n",
       "      <th>job_health_insurance</th>\n",
       "      <th>job_country</th>\n",
       "      <th>salary_rate</th>\n",
       "      <th>salary_year_avg</th>\n",
       "      <th>salary_hour_avg</th>\n",
       "      <th>company_name</th>\n",
       "      <th>job_skills</th>\n",
       "      <th>job_type_skills</th>\n",
       "    </tr>\n",
       "  </thead>\n",
       "  <tbody>\n",
       "  </tbody>\n",
       "</table>\n",
       "</div>"
      ],
      "text/plain": [
       "Empty DataFrame\n",
       "Columns: [job_title_short, job_title, job_location, job_via, job_schedule_type, job_work_from_home, search_location, job_posted_date, job_no_degree_mention, job_health_insurance, job_country, salary_rate, salary_year_avg, salary_hour_avg, company_name, job_skills, job_type_skills]\n",
       "Index: []"
      ]
     },
     "execution_count": 55,
     "metadata": {},
     "output_type": "execute_result"
    }
   ],
   "source": [
    "df[(df.job_schedule_type == 'Full-time') & (df.salary_year_avg > 4000_000)]"
   ]
  },
  {
   "cell_type": "code",
   "execution_count": 44,
   "metadata": {},
   "outputs": [
    {
     "data": {
      "text/plain": [
       "'2023-06-16 13:44:15'"
      ]
     },
     "execution_count": 44,
     "metadata": {},
     "output_type": "execute_result"
    }
   ],
   "source": [
    "df.job_posted_date[0]"
   ]
  },
  {
   "cell_type": "code",
   "execution_count": 88,
   "metadata": {},
   "outputs": [
    {
     "data": {
      "text/plain": [
       "108883    2023\n",
       "334082    2023\n",
       "365786    2023\n",
       "366073    2023\n",
       "108099    2023\n",
       "          ... \n",
       "186163    2023\n",
       "421728    2023\n",
       "313161    2023\n",
       "336301    2023\n",
       "327439    2023\n",
       "Name: job_posted_date, Length: 22003, dtype: int32"
      ]
     },
     "execution_count": 88,
     "metadata": {},
     "output_type": "execute_result"
    }
   ],
   "source": [
    "df[\"job_posted_date\"] = pd.to_datetime(df.job_posted_date)\n",
    "\n",
    "df['job_remote'] = df['job_work_from_home']\n",
    "df.drop(labels=\"job_remote\",axis=1, inplace=True)\n",
    "df[\"job_posted_date\"].dt.year"
   ]
  },
  {
   "cell_type": "code",
   "execution_count": 75,
   "metadata": {},
   "outputs": [],
   "source": [
    "df.sort_values('job_posted_date', inplace=True)"
   ]
  },
  {
   "cell_type": "code",
   "execution_count": 66,
   "metadata": {},
   "outputs": [],
   "source": [
    "df.drop(labels=\"salary_hour_avg\", axis=1, inplace=True)"
   ]
  },
  {
   "cell_type": "code",
   "execution_count": 112,
   "metadata": {},
   "outputs": [
    {
     "data": {
      "text/html": [
       "<div>\n",
       "<style scoped>\n",
       "    .dataframe tbody tr th:only-of-type {\n",
       "        vertical-align: middle;\n",
       "    }\n",
       "\n",
       "    .dataframe tbody tr th {\n",
       "        vertical-align: top;\n",
       "    }\n",
       "\n",
       "    .dataframe thead th {\n",
       "        text-align: right;\n",
       "    }\n",
       "</style>\n",
       "<table border=\"1\" class=\"dataframe\">\n",
       "  <thead>\n",
       "    <tr style=\"text-align: right;\">\n",
       "      <th></th>\n",
       "      <th>job_title_short</th>\n",
       "      <th>job_title</th>\n",
       "      <th>job_location</th>\n",
       "      <th>job_via</th>\n",
       "      <th>job_schedule_type</th>\n",
       "      <th>job_work_from_home</th>\n",
       "      <th>search_location</th>\n",
       "      <th>job_posted_date</th>\n",
       "      <th>job_no_degree_mention</th>\n",
       "      <th>job_health_insurance</th>\n",
       "      <th>job_country</th>\n",
       "      <th>salary_rate</th>\n",
       "      <th>salary_year_avg</th>\n",
       "      <th>company_name</th>\n",
       "      <th>job_skills</th>\n",
       "      <th>job_type_skills</th>\n",
       "    </tr>\n",
       "  </thead>\n",
       "  <tbody>\n",
       "    <tr>\n",
       "      <th>108883</th>\n",
       "      <td>Data Scientist</td>\n",
       "      <td>Data Scientist</td>\n",
       "      <td>Calabasas, CA</td>\n",
       "      <td>via Recruit.net</td>\n",
       "      <td>Full-time</td>\n",
       "      <td>False</td>\n",
       "      <td>California, United States</td>\n",
       "      <td>2023-01-01 00:02:56</td>\n",
       "      <td>False</td>\n",
       "      <td>True</td>\n",
       "      <td>United States</td>\n",
       "      <td>year</td>\n",
       "      <td>110000.0</td>\n",
       "      <td>PlanetArt</td>\n",
       "      <td>['python', 'sql', 'tableau', 'excel']</td>\n",
       "      <td>{'analyst_tools': ['tableau', 'excel'], 'progr...</td>\n",
       "    </tr>\n",
       "    <tr>\n",
       "      <th>334082</th>\n",
       "      <td>Data Engineer</td>\n",
       "      <td>Data Engineer</td>\n",
       "      <td>Argentina</td>\n",
       "      <td>via EchoJobs</td>\n",
       "      <td>Full-time</td>\n",
       "      <td>False</td>\n",
       "      <td>Argentina</td>\n",
       "      <td>2023-01-01 00:06:13</td>\n",
       "      <td>True</td>\n",
       "      <td>False</td>\n",
       "      <td>Argentina</td>\n",
       "      <td>year</td>\n",
       "      <td>65000.0</td>\n",
       "      <td>Spiff</td>\n",
       "      <td>['python', 'mysql', 'aws', 'azure']</td>\n",
       "      <td>{'cloud': ['aws', 'azure'], 'databases': ['mys...</td>\n",
       "    </tr>\n",
       "    <tr>\n",
       "      <th>365786</th>\n",
       "      <td>Business Analyst</td>\n",
       "      <td>Hospitality Operations Analyst</td>\n",
       "      <td>Anywhere</td>\n",
       "      <td>via Goodwin Recruiting | Job Board</td>\n",
       "      <td>Full-time</td>\n",
       "      <td>True</td>\n",
       "      <td>Georgia</td>\n",
       "      <td>2023-01-01 00:17:55</td>\n",
       "      <td>False</td>\n",
       "      <td>True</td>\n",
       "      <td>United States</td>\n",
       "      <td>year</td>\n",
       "      <td>90000.0</td>\n",
       "      <td>Goodwin Recruiting</td>\n",
       "      <td>['sql', 'excel', 'powerpoint', 'outlook']</td>\n",
       "      <td>{'analyst_tools': ['excel', 'powerpoint', 'out...</td>\n",
       "    </tr>\n",
       "    <tr>\n",
       "      <th>366073</th>\n",
       "      <td>Data Analyst</td>\n",
       "      <td>Data Analytics Professional</td>\n",
       "      <td>Atlanta, GA</td>\n",
       "      <td>via CareerBuilder</td>\n",
       "      <td>Full-time</td>\n",
       "      <td>False</td>\n",
       "      <td>Georgia</td>\n",
       "      <td>2023-01-01 00:17:58</td>\n",
       "      <td>False</td>\n",
       "      <td>False</td>\n",
       "      <td>United States</td>\n",
       "      <td>year</td>\n",
       "      <td>55000.0</td>\n",
       "      <td>Cogent Infotech.</td>\n",
       "      <td>['sql', 'python', 'numpy', 'pandas', 'seaborn'...</td>\n",
       "      <td>{'analyst_tools': ['excel', 'alteryx', 'tablea...</td>\n",
       "    </tr>\n",
       "    <tr>\n",
       "      <th>108099</th>\n",
       "      <td>Data Scientist</td>\n",
       "      <td>Lead Data Scientist (Hybrid)</td>\n",
       "      <td>Burnsville, MN</td>\n",
       "      <td>via Recruit.net</td>\n",
       "      <td>Full-time</td>\n",
       "      <td>False</td>\n",
       "      <td>Illinois, United States</td>\n",
       "      <td>2023-01-01 00:21:09</td>\n",
       "      <td>False</td>\n",
       "      <td>False</td>\n",
       "      <td>United States</td>\n",
       "      <td>year</td>\n",
       "      <td>120531.0</td>\n",
       "      <td>Apple Valley</td>\n",
       "      <td>['java', 'sql', 'sql server', 'spring']</td>\n",
       "      <td>{'databases': ['sql server'], 'libraries': ['s...</td>\n",
       "    </tr>\n",
       "    <tr>\n",
       "      <th>...</th>\n",
       "      <td>...</td>\n",
       "      <td>...</td>\n",
       "      <td>...</td>\n",
       "      <td>...</td>\n",
       "      <td>...</td>\n",
       "      <td>...</td>\n",
       "      <td>...</td>\n",
       "      <td>...</td>\n",
       "      <td>...</td>\n",
       "      <td>...</td>\n",
       "      <td>...</td>\n",
       "      <td>...</td>\n",
       "      <td>...</td>\n",
       "      <td>...</td>\n",
       "      <td>...</td>\n",
       "      <td>...</td>\n",
       "    </tr>\n",
       "    <tr>\n",
       "      <th>186163</th>\n",
       "      <td>Senior Data Scientist</td>\n",
       "      <td>Tech Lead / Sr Data Scientist, Product Analyti...</td>\n",
       "      <td>Los Angeles, CA</td>\n",
       "      <td>via LinkedIn</td>\n",
       "      <td>Full-time</td>\n",
       "      <td>False</td>\n",
       "      <td>California, United States</td>\n",
       "      <td>2023-12-31 15:00:46</td>\n",
       "      <td>False</td>\n",
       "      <td>True</td>\n",
       "      <td>United States</td>\n",
       "      <td>year</td>\n",
       "      <td>271526.5</td>\n",
       "      <td>TikTok</td>\n",
       "      <td>['sql', 'python', 'r', 'express']</td>\n",
       "      <td>{'programming': ['sql', 'python', 'r'], 'webfr...</td>\n",
       "    </tr>\n",
       "    <tr>\n",
       "      <th>421728</th>\n",
       "      <td>Data Analyst</td>\n",
       "      <td>Data Analyst - Operations</td>\n",
       "      <td>Los Angeles, CA</td>\n",
       "      <td>via Indeed</td>\n",
       "      <td>Full-time</td>\n",
       "      <td>False</td>\n",
       "      <td>California, United States</td>\n",
       "      <td>2023-12-31 16:00:07</td>\n",
       "      <td>False</td>\n",
       "      <td>True</td>\n",
       "      <td>United States</td>\n",
       "      <td>year</td>\n",
       "      <td>72750.0</td>\n",
       "      <td>Wilshire Law Firm Plc</td>\n",
       "      <td>['sql', 'power bi', 'unity']</td>\n",
       "      <td>{'analyst_tools': ['power bi'], 'other': ['uni...</td>\n",
       "    </tr>\n",
       "    <tr>\n",
       "      <th>313161</th>\n",
       "      <td>Data Scientist</td>\n",
       "      <td>Data Scientist - Security Clearance Required</td>\n",
       "      <td>Newport News, VA</td>\n",
       "      <td>via IT JobServe</td>\n",
       "      <td>Full-time</td>\n",
       "      <td>False</td>\n",
       "      <td>Georgia</td>\n",
       "      <td>2023-12-31 17:31:57</td>\n",
       "      <td>False</td>\n",
       "      <td>False</td>\n",
       "      <td>United States</td>\n",
       "      <td>year</td>\n",
       "      <td>114062.5</td>\n",
       "      <td>Leidos</td>\n",
       "      <td>['python', 'r', 'sql', 'pandas', 'numpy']</td>\n",
       "      <td>{'libraries': ['pandas', 'numpy'], 'programmin...</td>\n",
       "    </tr>\n",
       "    <tr>\n",
       "      <th>336301</th>\n",
       "      <td>Data Scientist</td>\n",
       "      <td>Data scientist</td>\n",
       "      <td>Dallas, TX</td>\n",
       "      <td>via Talent.com</td>\n",
       "      <td>Full-time</td>\n",
       "      <td>False</td>\n",
       "      <td>Sudan</td>\n",
       "      <td>2023-12-31 23:40:22</td>\n",
       "      <td>False</td>\n",
       "      <td>True</td>\n",
       "      <td>Sudan</td>\n",
       "      <td>year</td>\n",
       "      <td>162500.0</td>\n",
       "      <td>Cognizant Technology Solutions</td>\n",
       "      <td>['python', 'nosql']</td>\n",
       "      <td>{'programming': ['python', 'nosql']}</td>\n",
       "    </tr>\n",
       "    <tr>\n",
       "      <th>327439</th>\n",
       "      <td>Data Engineer</td>\n",
       "      <td>Staff engineer data</td>\n",
       "      <td>Southfield, MI</td>\n",
       "      <td>via Talent.com</td>\n",
       "      <td>Full-time</td>\n",
       "      <td>False</td>\n",
       "      <td>Sudan</td>\n",
       "      <td>2023-12-31 23:40:32</td>\n",
       "      <td>False</td>\n",
       "      <td>False</td>\n",
       "      <td>Sudan</td>\n",
       "      <td>year</td>\n",
       "      <td>140000.0</td>\n",
       "      <td>Credit Acceptance</td>\n",
       "      <td>['express', 'kubernetes']</td>\n",
       "      <td>{'other': ['kubernetes'], 'webframeworks': ['e...</td>\n",
       "    </tr>\n",
       "  </tbody>\n",
       "</table>\n",
       "<p>22003 rows × 16 columns</p>\n",
       "</div>"
      ],
      "text/plain": [
       "              job_title_short  \\\n",
       "108883         Data Scientist   \n",
       "334082          Data Engineer   \n",
       "365786       Business Analyst   \n",
       "366073           Data Analyst   \n",
       "108099         Data Scientist   \n",
       "...                       ...   \n",
       "186163  Senior Data Scientist   \n",
       "421728           Data Analyst   \n",
       "313161         Data Scientist   \n",
       "336301         Data Scientist   \n",
       "327439          Data Engineer   \n",
       "\n",
       "                                                job_title      job_location  \\\n",
       "108883                                     Data Scientist     Calabasas, CA   \n",
       "334082                                      Data Engineer         Argentina   \n",
       "365786                     Hospitality Operations Analyst          Anywhere   \n",
       "366073                        Data Analytics Professional       Atlanta, GA   \n",
       "108099                       Lead Data Scientist (Hybrid)    Burnsville, MN   \n",
       "...                                                   ...               ...   \n",
       "186163  Tech Lead / Sr Data Scientist, Product Analyti...   Los Angeles, CA   \n",
       "421728                          Data Analyst - Operations   Los Angeles, CA   \n",
       "313161       Data Scientist - Security Clearance Required  Newport News, VA   \n",
       "336301                                     Data scientist        Dallas, TX   \n",
       "327439                                Staff engineer data    Southfield, MI   \n",
       "\n",
       "                                   job_via job_schedule_type  \\\n",
       "108883                     via Recruit.net         Full-time   \n",
       "334082                        via EchoJobs         Full-time   \n",
       "365786  via Goodwin Recruiting | Job Board         Full-time   \n",
       "366073                   via CareerBuilder         Full-time   \n",
       "108099                     via Recruit.net         Full-time   \n",
       "...                                    ...               ...   \n",
       "186163                        via LinkedIn         Full-time   \n",
       "421728                          via Indeed         Full-time   \n",
       "313161                     via IT JobServe         Full-time   \n",
       "336301                      via Talent.com         Full-time   \n",
       "327439                      via Talent.com         Full-time   \n",
       "\n",
       "        job_work_from_home            search_location     job_posted_date  \\\n",
       "108883               False  California, United States 2023-01-01 00:02:56   \n",
       "334082               False                  Argentina 2023-01-01 00:06:13   \n",
       "365786                True                    Georgia 2023-01-01 00:17:55   \n",
       "366073               False                    Georgia 2023-01-01 00:17:58   \n",
       "108099               False    Illinois, United States 2023-01-01 00:21:09   \n",
       "...                    ...                        ...                 ...   \n",
       "186163               False  California, United States 2023-12-31 15:00:46   \n",
       "421728               False  California, United States 2023-12-31 16:00:07   \n",
       "313161               False                    Georgia 2023-12-31 17:31:57   \n",
       "336301               False                      Sudan 2023-12-31 23:40:22   \n",
       "327439               False                      Sudan 2023-12-31 23:40:32   \n",
       "\n",
       "        job_no_degree_mention  job_health_insurance    job_country  \\\n",
       "108883                  False                  True  United States   \n",
       "334082                   True                 False      Argentina   \n",
       "365786                  False                  True  United States   \n",
       "366073                  False                 False  United States   \n",
       "108099                  False                 False  United States   \n",
       "...                       ...                   ...            ...   \n",
       "186163                  False                  True  United States   \n",
       "421728                  False                  True  United States   \n",
       "313161                  False                 False  United States   \n",
       "336301                  False                  True          Sudan   \n",
       "327439                  False                 False          Sudan   \n",
       "\n",
       "       salary_rate  salary_year_avg                    company_name  \\\n",
       "108883        year         110000.0                       PlanetArt   \n",
       "334082        year          65000.0                           Spiff   \n",
       "365786        year          90000.0              Goodwin Recruiting   \n",
       "366073        year          55000.0                Cogent Infotech.   \n",
       "108099        year         120531.0                    Apple Valley   \n",
       "...            ...              ...                             ...   \n",
       "186163        year         271526.5                          TikTok   \n",
       "421728        year          72750.0           Wilshire Law Firm Plc   \n",
       "313161        year         114062.5                          Leidos   \n",
       "336301        year         162500.0  Cognizant Technology Solutions   \n",
       "327439        year         140000.0               Credit Acceptance   \n",
       "\n",
       "                                               job_skills  \\\n",
       "108883              ['python', 'sql', 'tableau', 'excel']   \n",
       "334082                ['python', 'mysql', 'aws', 'azure']   \n",
       "365786          ['sql', 'excel', 'powerpoint', 'outlook']   \n",
       "366073  ['sql', 'python', 'numpy', 'pandas', 'seaborn'...   \n",
       "108099            ['java', 'sql', 'sql server', 'spring']   \n",
       "...                                                   ...   \n",
       "186163                  ['sql', 'python', 'r', 'express']   \n",
       "421728                       ['sql', 'power bi', 'unity']   \n",
       "313161          ['python', 'r', 'sql', 'pandas', 'numpy']   \n",
       "336301                                ['python', 'nosql']   \n",
       "327439                          ['express', 'kubernetes']   \n",
       "\n",
       "                                          job_type_skills  \n",
       "108883  {'analyst_tools': ['tableau', 'excel'], 'progr...  \n",
       "334082  {'cloud': ['aws', 'azure'], 'databases': ['mys...  \n",
       "365786  {'analyst_tools': ['excel', 'powerpoint', 'out...  \n",
       "366073  {'analyst_tools': ['excel', 'alteryx', 'tablea...  \n",
       "108099  {'databases': ['sql server'], 'libraries': ['s...  \n",
       "...                                                   ...  \n",
       "186163  {'programming': ['sql', 'python', 'r'], 'webfr...  \n",
       "421728  {'analyst_tools': ['power bi'], 'other': ['uni...  \n",
       "313161  {'libraries': ['pandas', 'numpy'], 'programmin...  \n",
       "336301               {'programming': ['python', 'nosql']}  \n",
       "327439  {'other': ['kubernetes'], 'webframeworks': ['e...  \n",
       "\n",
       "[22003 rows x 16 columns]"
      ]
     },
     "execution_count": 112,
     "metadata": {},
     "output_type": "execute_result"
    }
   ],
   "source": [
    "df.dropna(subset=[\"salary_year_avg\"], inplace=True)\n",
    "df"
   ]
  },
  {
   "cell_type": "code",
   "execution_count": 145,
   "metadata": {},
   "outputs": [
    {
     "name": "stdout",
     "output_type": "stream",
     "text": [
      "554784\n"
     ]
    },
    {
     "data": {
      "text/plain": [
       "job_country\n",
       "Afghanistan      16\n",
       "Albania         119\n",
       "Algeria         111\n",
       "Angola           11\n",
       "Argentina      8736\n",
       "               ... \n",
       "Venezuela        69\n",
       "Vietnam        2414\n",
       "Yemen            10\n",
       "Zambia          104\n",
       "Zimbabwe         81\n",
       "Name: job_title, Length: 160, dtype: int64"
      ]
     },
     "execution_count": 145,
     "metadata": {},
     "output_type": "execute_result"
    }
   ],
   "source": [
    "df[\"salary_year_avg\"].median()\n",
    "df.describe()\n",
    "min_salary = df[\"salary_year_avg\"].idxmin()\n",
    "df[\"salary_year_avg\"].median()\n",
    "max_salary = df[\"salary_year_avg\"].idxmax()\n",
    "print(max_salary)\n",
    "df.groupby([\"job_title_short\"])[\"salary_hour_avg\"].agg([\"mean\"])\n",
    "df.groupby(\"job_country\")[\"job_title\"].count()"
   ]
  },
  {
   "cell_type": "code",
   "execution_count": 129,
   "metadata": {},
   "outputs": [
    {
     "data": {
      "text/html": [
       "<div>\n",
       "<style scoped>\n",
       "    .dataframe tbody tr th:only-of-type {\n",
       "        vertical-align: middle;\n",
       "    }\n",
       "\n",
       "    .dataframe tbody tr th {\n",
       "        vertical-align: top;\n",
       "    }\n",
       "\n",
       "    .dataframe thead tr th {\n",
       "        text-align: left;\n",
       "    }\n",
       "\n",
       "    .dataframe thead tr:last-of-type th {\n",
       "        text-align: right;\n",
       "    }\n",
       "</style>\n",
       "<table border=\"1\" class=\"dataframe\">\n",
       "  <thead>\n",
       "    <tr>\n",
       "      <th></th>\n",
       "      <th colspan=\"3\" halign=\"left\">salary_year_avg</th>\n",
       "      <th colspan=\"3\" halign=\"left\">salary_hour_avg</th>\n",
       "    </tr>\n",
       "    <tr>\n",
       "      <th></th>\n",
       "      <th>min</th>\n",
       "      <th>max</th>\n",
       "      <th>median</th>\n",
       "      <th>min</th>\n",
       "      <th>max</th>\n",
       "      <th>median</th>\n",
       "    </tr>\n",
       "    <tr>\n",
       "      <th>job_title_short</th>\n",
       "      <th></th>\n",
       "      <th></th>\n",
       "      <th></th>\n",
       "      <th></th>\n",
       "      <th></th>\n",
       "      <th></th>\n",
       "    </tr>\n",
       "  </thead>\n",
       "  <tbody>\n",
       "    <tr>\n",
       "      <th>Business Analyst</th>\n",
       "      <td>16500.0</td>\n",
       "      <td>387460.0</td>\n",
       "      <td>85000.0</td>\n",
       "      <td>10.835</td>\n",
       "      <td>132.5</td>\n",
       "      <td>40.362499</td>\n",
       "    </tr>\n",
       "    <tr>\n",
       "      <th>Cloud Engineer</th>\n",
       "      <td>42000.0</td>\n",
       "      <td>280000.0</td>\n",
       "      <td>90000.0</td>\n",
       "      <td>18.500</td>\n",
       "      <td>91.0</td>\n",
       "      <td>40.000000</td>\n",
       "    </tr>\n",
       "    <tr>\n",
       "      <th>Data Analyst</th>\n",
       "      <td>25000.0</td>\n",
       "      <td>650000.0</td>\n",
       "      <td>90000.0</td>\n",
       "      <td>8.000</td>\n",
       "      <td>391.0</td>\n",
       "      <td>32.615002</td>\n",
       "    </tr>\n",
       "    <tr>\n",
       "      <th>Data Engineer</th>\n",
       "      <td>15000.0</td>\n",
       "      <td>525000.0</td>\n",
       "      <td>125000.0</td>\n",
       "      <td>8.000</td>\n",
       "      <td>184.5</td>\n",
       "      <td>58.500000</td>\n",
       "    </tr>\n",
       "    <tr>\n",
       "      <th>Data Scientist</th>\n",
       "      <td>27000.0</td>\n",
       "      <td>960000.0</td>\n",
       "      <td>127500.0</td>\n",
       "      <td>8.000</td>\n",
       "      <td>237.5</td>\n",
       "      <td>47.500000</td>\n",
       "    </tr>\n",
       "    <tr>\n",
       "      <th>Machine Learning Engineer</th>\n",
       "      <td>30000.0</td>\n",
       "      <td>325000.0</td>\n",
       "      <td>106415.0</td>\n",
       "      <td>10.000</td>\n",
       "      <td>87.5</td>\n",
       "      <td>47.535000</td>\n",
       "    </tr>\n",
       "    <tr>\n",
       "      <th>Senior Data Analyst</th>\n",
       "      <td>30000.0</td>\n",
       "      <td>425000.0</td>\n",
       "      <td>111175.0</td>\n",
       "      <td>13.000</td>\n",
       "      <td>130.0</td>\n",
       "      <td>47.500000</td>\n",
       "    </tr>\n",
       "    <tr>\n",
       "      <th>Senior Data Engineer</th>\n",
       "      <td>35000.0</td>\n",
       "      <td>425000.0</td>\n",
       "      <td>147500.0</td>\n",
       "      <td>12.500</td>\n",
       "      <td>170.0</td>\n",
       "      <td>61.500000</td>\n",
       "    </tr>\n",
       "    <tr>\n",
       "      <th>Senior Data Scientist</th>\n",
       "      <td>45000.0</td>\n",
       "      <td>890000.0</td>\n",
       "      <td>155500.0</td>\n",
       "      <td>17.500</td>\n",
       "      <td>150.0</td>\n",
       "      <td>47.620003</td>\n",
       "    </tr>\n",
       "    <tr>\n",
       "      <th>Software Engineer</th>\n",
       "      <td>28000.0</td>\n",
       "      <td>375000.0</td>\n",
       "      <td>99150.0</td>\n",
       "      <td>11.000</td>\n",
       "      <td>102.5</td>\n",
       "      <td>47.560001</td>\n",
       "    </tr>\n",
       "  </tbody>\n",
       "</table>\n",
       "</div>"
      ],
      "text/plain": [
       "                          salary_year_avg                     salary_hour_avg  \\\n",
       "                                      min       max    median             min   \n",
       "job_title_short                                                                 \n",
       "Business Analyst                  16500.0  387460.0   85000.0          10.835   \n",
       "Cloud Engineer                    42000.0  280000.0   90000.0          18.500   \n",
       "Data Analyst                      25000.0  650000.0   90000.0           8.000   \n",
       "Data Engineer                     15000.0  525000.0  125000.0           8.000   \n",
       "Data Scientist                    27000.0  960000.0  127500.0           8.000   \n",
       "Machine Learning Engineer         30000.0  325000.0  106415.0          10.000   \n",
       "Senior Data Analyst               30000.0  425000.0  111175.0          13.000   \n",
       "Senior Data Engineer              35000.0  425000.0  147500.0          12.500   \n",
       "Senior Data Scientist             45000.0  890000.0  155500.0          17.500   \n",
       "Software Engineer                 28000.0  375000.0   99150.0          11.000   \n",
       "\n",
       "                                             \n",
       "                             max     median  \n",
       "job_title_short                              \n",
       "Business Analyst           132.5  40.362499  \n",
       "Cloud Engineer              91.0  40.000000  \n",
       "Data Analyst               391.0  32.615002  \n",
       "Data Engineer              184.5  58.500000  \n",
       "Data Scientist             237.5  47.500000  \n",
       "Machine Learning Engineer   87.5  47.535000  \n",
       "Senior Data Analyst        130.0  47.500000  \n",
       "Senior Data Engineer       170.0  61.500000  \n",
       "Senior Data Scientist      150.0  47.620003  \n",
       "Software Engineer          102.5  47.560001  "
      ]
     },
     "execution_count": 129,
     "metadata": {},
     "output_type": "execute_result"
    }
   ],
   "source": [
    "df.iloc[min_salary]\n",
    "df[\"job_title_short\"].value_counts()\n",
    "df.groupby([\"job_title_short\"])[[\"salary_year_avg\", \"salary_hour_avg\"]].agg([\"min\", \"max\", \"median\"])"
   ]
  },
  {
   "cell_type": "code",
   "execution_count": null,
   "metadata": {},
   "outputs": [],
   "source": []
  }
 ],
 "metadata": {
  "kernelspec": {
   "display_name": "Python 3",
   "language": "python",
   "name": "python3"
  },
  "language_info": {
   "codemirror_mode": {
    "name": "ipython",
    "version": 3
   },
   "file_extension": ".py",
   "mimetype": "text/x-python",
   "name": "python",
   "nbconvert_exporter": "python",
   "pygments_lexer": "ipython3",
   "version": "3.12.6"
  }
 },
 "nbformat": 4,
 "nbformat_minor": 2
}
