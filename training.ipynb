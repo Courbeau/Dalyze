{
 "cells": [
  {
   "cell_type": "markdown",
   "metadata": {},
   "source": [
    "# Data Analyst yt video exercises"
   ]
  },
  {
   "cell_type": "code",
   "execution_count": 69,
   "metadata": {},
   "outputs": [
    {
     "data": {
      "text/plain": [
       "['P', 'Y', 'T', 'H', 'O', 'N']"
      ]
     },
     "execution_count": 69,
     "metadata": {},
     "output_type": "execute_result"
    }
   ],
   "source": [
    "numbers1 = [x for x in 'PYTHON']\n",
    "numbers1"
   ]
  },
  {
   "cell_type": "code",
   "execution_count": 73,
   "metadata": {},
   "outputs": [
    {
     "name": "stdout",
     "output_type": "stream",
     "text": [
      "102\n",
      "['Data Analyst', 'Marketing Data Analyst', 'HR Data Analyst', 'Supply Chain Data Analyst', 'Sports Data Analyst', 'Insurance Data Analyst', 'Junior Data Analyst', 'Real Estate Data Analyst']\n"
     ]
    },
    {
     "data": {
      "text/plain": [
       "8"
      ]
     },
     "execution_count": 73,
     "metadata": {},
     "output_type": "execute_result"
    }
   ],
   "source": [
    "job_titles = [\n",
    "    \"Data Scientist\", \"Machine Learning Engineer\", \"Data Analyst\", \"AI Engineer\", \"Business Intelligence Analyst\",\n",
    "    \"Data Engineer\", \"Deep Learning Engineer\", \"Big Data Engineer\", \"Quantitative Analyst\", \"Research Scientist\",\n",
    "    \"Statistician\", \"Data Architect\", \"Computer Vision Engineer\", \"NLP Engineer\", \"Decision Scientist\",\n",
    "    \"BI Developer\", \"Analytics Engineer\", \"Data Science Consultant\", \"Predictive Modeler\", \"AI Research Scientist\",\n",
    "    \"Data Science Manager\", \"Data Visualization Specialist\", \"Data Science Product Manager\", \"ML Ops Engineer\", \n",
    "    \"Applied Scientist\", \"Research Engineer\", \"Principal Data Scientist\", \"Lead Data Scientist\", \n",
    "    \"Marketing Data Analyst\", \"Operations Research Analyst\", \"Risk Data Scientist\", \"Fraud Detection Analyst\", \n",
    "    \"Healthcare Data Scientist\", \"Bioinformatics Data Scientist\", \"Financial Data Scientist\", \"Customer Insights Analyst\",\n",
    "    \"Data Strategy Consultant\", \"Computer Science Researcher\", \"AI Ethics Researcher\", \"Geospatial Data Scientist\", \n",
    "    \"Robotics Data Scientist\", \"Econometrician\", \"Retail Data Scientist\", \"Climate Data Scientist\", \"HR Data Analyst\", \n",
    "    \"Data Governance Specialist\", \"Text Mining Engineer\", \"Sentiment Analysis Expert\", \"Epidemiology Data Scientist\", \n",
    "    \"Supply Chain Data Analyst\", \"Data Wrangler\", \"Data Storyteller\", \"Sports Data Analyst\", \"Educational Data Scientist\",\n",
    "    \"Cybersecurity Data Scientist\", \"Cloud Data Engineer\", \"Data Science Trainer\", \"Data Ethics Consultant\",\n",
    "    \"Causal Inference Scientist\", \"Genomics Data Scientist\", \"Recommender Systems Engineer\", \"Conversational AI Engineer\", \n",
    "    \"Knowledge Graph Engineer\", \"Data-Driven Decision Maker\", \"Survey Data Scientist\", \"Data Science Evangelist\",\n",
    "    \"Software Engineer - Data Science\", \"AI/ML Product Manager\", \"A/B Testing Analyst\", \"Personalization Data Scientist\",\n",
    "    \"Insurance Data Analyst\", \"Customer Experience Data Scientist\", \"Data Science Director\", \"Senior Data Engineer\",\n",
    "    \"Senior Machine Learning Engineer\", \"Junior Data Scientist\", \"Junior Data Analyst\", \"AI Software Engineer\",\n",
    "    \"ML Research Scientist\", \"Speech Recognition Engineer\", \"Autonomous Systems Scientist\", \"Data Science Fellow\",\n",
    "    \"Experimental Data Scientist\", \"Bayesian Statistician\", \"AI Consultant\", \"Big Data Analytics Consultant\",\n",
    "    \"Optimization Scientist\", \"Cloud AI Engineer\", \"Quantitative Researcher\", \"AI Fairness Expert\",\n",
    "    \"Streaming Data Engineer\", \"Cryptocurrency Data Scientist\", \"AdTech Data Scientist\", \"Pharmaceutical Data Scientist\",\n",
    "    \"Media Data Scientist\", \"Real Estate Data Analyst\", \"AI Policy Analyst\", \"Legal Data Scientist\",\n",
    "    \"AI Infrastructure Engineer\", \"Neuroscience Data Scientist\", \"Cognitive AI Engineer\", \"Data Science Recruiter\"\n",
    "]\n",
    "print(len(job_titles))\n",
    "data_analyst_titles = [job for job in job_titles if \"Data Analyst\" in job]\n",
    "print(data_analyst_titles)\n",
    "len(data_analyst_titles)\n"
   ]
  }
 ],
 "metadata": {
  "kernelspec": {
   "display_name": "Python 3",
   "language": "python",
   "name": "python3"
  },
  "language_info": {
   "codemirror_mode": {
    "name": "ipython",
    "version": 3
   },
   "file_extension": ".py",
   "mimetype": "text/x-python",
   "name": "python",
   "nbconvert_exporter": "python",
   "pygments_lexer": "ipython3",
   "version": "3.12.6"
  }
 },
 "nbformat": 4,
 "nbformat_minor": 2
}
